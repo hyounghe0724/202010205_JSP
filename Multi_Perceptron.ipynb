{
  "nbformat": 4,
  "nbformat_minor": 0,
  "metadata": {
    "colab": {
      "provenance": [],
      "gpuType": "T4",
      "authorship_tag": "ABX9TyNFZCd+UdS4IU9n+dbDmceU",
      "include_colab_link": true
    },
    "kernelspec": {
      "name": "python3",
      "display_name": "Python 3"
    },
    "language_info": {
      "name": "python"
    },
    "accelerator": "GPU"
  },
  "cells": [
    {
      "cell_type": "markdown",
      "metadata": {
        "id": "view-in-github",
        "colab_type": "text"
      },
      "source": [
        "<a href=\"https://colab.research.google.com/github/hyounghe0724/202010205_JSP/blob/main/Multi_Perceptron.ipynb\" target=\"_parent\"><img src=\"https://colab.research.google.com/assets/colab-badge.svg\" alt=\"Open In Colab\"/></a>"
      ]
    },
    {
      "cell_type": "code",
      "source": [
        "from google.colab import drive\n",
        "drive.mount(\"/content/gdrive\")\n"
      ],
      "metadata": {
        "colab": {
          "base_uri": "https://localhost:8080/"
        },
        "id": "aQpt-jg9rlhR",
        "outputId": "750b1e53-a05b-4867-8adc-78272a2ac45d"
      },
      "execution_count": 62,
      "outputs": [
        {
          "output_type": "stream",
          "name": "stdout",
          "text": [
            "Drive already mounted at /content/gdrive; to attempt to forcibly remount, call drive.mount(\"/content/gdrive\", force_remount=True).\n"
          ]
        }
      ]
    },
    {
      "cell_type": "code",
      "source": [],
      "metadata": {
        "id": "kSrGjxuoTSjg"
      },
      "execution_count": 62,
      "outputs": []
    },
    {
      "cell_type": "code",
      "source": [],
      "metadata": {
        "id": "T0mDmcB9TSt3"
      },
      "execution_count": 62,
      "outputs": []
    },
    {
      "cell_type": "code",
      "source": [],
      "metadata": {
        "id": "B56VKQt1TS15"
      },
      "execution_count": 62,
      "outputs": []
    },
    {
      "cell_type": "code",
      "source": [
        "cd /content/gdrive/My Drive/GoogleColab/deeplearningbrov2/pytorch"
      ],
      "metadata": {
        "colab": {
          "base_uri": "https://localhost:8080/"
        },
        "id": "WzHFtn0osPlj",
        "outputId": "b93c8a43-dbdf-43be-b0ef-de221b0eaf8a"
      },
      "execution_count": 63,
      "outputs": [
        {
          "output_type": "stream",
          "name": "stdout",
          "text": [
            "/content/gdrive/My Drive/GoogleColab/deeplearningbrov2/pytorch\n"
          ]
        }
      ]
    },
    {
      "cell_type": "markdown",
      "source": [],
      "metadata": {
        "id": "4ZpwlKuw-eFr"
      }
    },
    {
      "cell_type": "code",
      "execution_count": 64,
      "metadata": {
        "id": "HgBxV58MmERY"
      },
      "outputs": [],
      "source": [
        "from sklearn.metrics import mean_squared_error\n",
        "import pandas as pd\n",
        "import numpy as np\n",
        "from sklearn.model_selection import train_test_split\n",
        "\n",
        "\n",
        "# ANN\n",
        "import torch\n",
        "from torch import nn, optim\n",
        "from torch.utils.data import DataLoader, Dataset\n",
        "import torch.nn.functional as F # 신경망 기술 등\n",
        "\n",
        "# Plot\n",
        "import matplotlib.pyplot as plt\n"
      ]
    },
    {
      "cell_type": "code",
      "source": [
        "df = pd.read_csv('./data/reg.csv', index_col=[0])"
      ],
      "metadata": {
        "id": "-XEnJhZ5oywD"
      },
      "execution_count": 65,
      "outputs": []
    },
    {
      "cell_type": "code",
      "source": [
        "df.head(10)\n"
      ],
      "metadata": {
        "colab": {
          "base_uri": "https://localhost:8080/",
          "height": 383
        },
        "id": "RjjsxG1YSYFf",
        "outputId": "d2823096-76f3-4e29-c2ab-eddee3a33b7e"
      },
      "execution_count": 66,
      "outputs": [
        {
          "output_type": "execute_result",
          "data": {
            "text/plain": [
              "         x1        x2        x3        x4        x5        x6        x7  \\\n",
              "0  0.034633  0.206919  0.137057  0.540526  0.193941  0.699239  0.630532   \n",
              "1  0.028920  0.014315  0.276113  0.255945  0.618886  0.555407  0.782263   \n",
              "2  0.020627  0.033230  0.281116  0.525591  0.165269  0.624102  0.586005   \n",
              "3  0.022749  0.033801  0.125044  0.263253  0.251509  0.658532  0.432160   \n",
              "4  0.022148  0.029374  0.121057  0.521126  0.399670  0.448086  0.520158   \n",
              "5  0.038651  0.019568  0.139449  0.719852  0.560581  0.610531  0.578661   \n",
              "6  0.033301  0.136658  0.336651  0.274996  0.472140  0.331155  0.643546   \n",
              "7  0.026858  0.151993  0.300627  0.115449  0.463345  0.532618  0.938389   \n",
              "8  0.021739  0.132378  0.259349  0.488716  0.389581  0.411536  0.984672   \n",
              "9  0.014588  0.144471  0.331099  0.759479  0.696532  0.334544  0.834204   \n",
              "\n",
              "         x8        x9       x10       x11       x12       x13     Price  \n",
              "0  0.239410  0.027375  0.209857  0.347609  0.996394  0.102644  0.422222  \n",
              "1  0.482977  0.103031  0.106690  0.520776  0.996650  0.187120  0.368889  \n",
              "2  0.272713  0.036010  0.106986  0.595301  0.983284  0.084079  0.660000  \n",
              "3  0.344932  0.150018  0.068317  0.651297  0.989989  0.015990  0.631111  \n",
              "4  0.495342  0.104383  0.069360  0.560116  0.998723  0.092782  0.693333  \n",
              "5  0.387926  0.133629  0.072967  0.514078  0.986385  0.127396  0.526667  \n",
              "6  0.661869  0.270651  0.239929  0.475964  0.993516  0.300521  0.397778  \n",
              "7  0.465781  0.139893  0.238901  0.243669  0.991425  0.431171  0.491111  \n",
              "8  0.526151  0.201324  0.236329  0.306712  0.965204  0.767177  0.255556  \n",
              "9  0.611416  0.174935  0.237351  0.437982  0.967070  0.445798  0.308889  "
            ],
            "text/html": [
              "\n",
              "  <div id=\"df-0d2a489c-f8a2-42e9-aafb-7893ed5c5336\" class=\"colab-df-container\">\n",
              "    <div>\n",
              "<style scoped>\n",
              "    .dataframe tbody tr th:only-of-type {\n",
              "        vertical-align: middle;\n",
              "    }\n",
              "\n",
              "    .dataframe tbody tr th {\n",
              "        vertical-align: top;\n",
              "    }\n",
              "\n",
              "    .dataframe thead th {\n",
              "        text-align: right;\n",
              "    }\n",
              "</style>\n",
              "<table border=\"1\" class=\"dataframe\">\n",
              "  <thead>\n",
              "    <tr style=\"text-align: right;\">\n",
              "      <th></th>\n",
              "      <th>x1</th>\n",
              "      <th>x2</th>\n",
              "      <th>x3</th>\n",
              "      <th>x4</th>\n",
              "      <th>x5</th>\n",
              "      <th>x6</th>\n",
              "      <th>x7</th>\n",
              "      <th>x8</th>\n",
              "      <th>x9</th>\n",
              "      <th>x10</th>\n",
              "      <th>x11</th>\n",
              "      <th>x12</th>\n",
              "      <th>x13</th>\n",
              "      <th>Price</th>\n",
              "    </tr>\n",
              "  </thead>\n",
              "  <tbody>\n",
              "    <tr>\n",
              "      <th>0</th>\n",
              "      <td>0.034633</td>\n",
              "      <td>0.206919</td>\n",
              "      <td>0.137057</td>\n",
              "      <td>0.540526</td>\n",
              "      <td>0.193941</td>\n",
              "      <td>0.699239</td>\n",
              "      <td>0.630532</td>\n",
              "      <td>0.239410</td>\n",
              "      <td>0.027375</td>\n",
              "      <td>0.209857</td>\n",
              "      <td>0.347609</td>\n",
              "      <td>0.996394</td>\n",
              "      <td>0.102644</td>\n",
              "      <td>0.422222</td>\n",
              "    </tr>\n",
              "    <tr>\n",
              "      <th>1</th>\n",
              "      <td>0.028920</td>\n",
              "      <td>0.014315</td>\n",
              "      <td>0.276113</td>\n",
              "      <td>0.255945</td>\n",
              "      <td>0.618886</td>\n",
              "      <td>0.555407</td>\n",
              "      <td>0.782263</td>\n",
              "      <td>0.482977</td>\n",
              "      <td>0.103031</td>\n",
              "      <td>0.106690</td>\n",
              "      <td>0.520776</td>\n",
              "      <td>0.996650</td>\n",
              "      <td>0.187120</td>\n",
              "      <td>0.368889</td>\n",
              "    </tr>\n",
              "    <tr>\n",
              "      <th>2</th>\n",
              "      <td>0.020627</td>\n",
              "      <td>0.033230</td>\n",
              "      <td>0.281116</td>\n",
              "      <td>0.525591</td>\n",
              "      <td>0.165269</td>\n",
              "      <td>0.624102</td>\n",
              "      <td>0.586005</td>\n",
              "      <td>0.272713</td>\n",
              "      <td>0.036010</td>\n",
              "      <td>0.106986</td>\n",
              "      <td>0.595301</td>\n",
              "      <td>0.983284</td>\n",
              "      <td>0.084079</td>\n",
              "      <td>0.660000</td>\n",
              "    </tr>\n",
              "    <tr>\n",
              "      <th>3</th>\n",
              "      <td>0.022749</td>\n",
              "      <td>0.033801</td>\n",
              "      <td>0.125044</td>\n",
              "      <td>0.263253</td>\n",
              "      <td>0.251509</td>\n",
              "      <td>0.658532</td>\n",
              "      <td>0.432160</td>\n",
              "      <td>0.344932</td>\n",
              "      <td>0.150018</td>\n",
              "      <td>0.068317</td>\n",
              "      <td>0.651297</td>\n",
              "      <td>0.989989</td>\n",
              "      <td>0.015990</td>\n",
              "      <td>0.631111</td>\n",
              "    </tr>\n",
              "    <tr>\n",
              "      <th>4</th>\n",
              "      <td>0.022148</td>\n",
              "      <td>0.029374</td>\n",
              "      <td>0.121057</td>\n",
              "      <td>0.521126</td>\n",
              "      <td>0.399670</td>\n",
              "      <td>0.448086</td>\n",
              "      <td>0.520158</td>\n",
              "      <td>0.495342</td>\n",
              "      <td>0.104383</td>\n",
              "      <td>0.069360</td>\n",
              "      <td>0.560116</td>\n",
              "      <td>0.998723</td>\n",
              "      <td>0.092782</td>\n",
              "      <td>0.693333</td>\n",
              "    </tr>\n",
              "    <tr>\n",
              "      <th>5</th>\n",
              "      <td>0.038651</td>\n",
              "      <td>0.019568</td>\n",
              "      <td>0.139449</td>\n",
              "      <td>0.719852</td>\n",
              "      <td>0.560581</td>\n",
              "      <td>0.610531</td>\n",
              "      <td>0.578661</td>\n",
              "      <td>0.387926</td>\n",
              "      <td>0.133629</td>\n",
              "      <td>0.072967</td>\n",
              "      <td>0.514078</td>\n",
              "      <td>0.986385</td>\n",
              "      <td>0.127396</td>\n",
              "      <td>0.526667</td>\n",
              "    </tr>\n",
              "    <tr>\n",
              "      <th>6</th>\n",
              "      <td>0.033301</td>\n",
              "      <td>0.136658</td>\n",
              "      <td>0.336651</td>\n",
              "      <td>0.274996</td>\n",
              "      <td>0.472140</td>\n",
              "      <td>0.331155</td>\n",
              "      <td>0.643546</td>\n",
              "      <td>0.661869</td>\n",
              "      <td>0.270651</td>\n",
              "      <td>0.239929</td>\n",
              "      <td>0.475964</td>\n",
              "      <td>0.993516</td>\n",
              "      <td>0.300521</td>\n",
              "      <td>0.397778</td>\n",
              "    </tr>\n",
              "    <tr>\n",
              "      <th>7</th>\n",
              "      <td>0.026858</td>\n",
              "      <td>0.151993</td>\n",
              "      <td>0.300627</td>\n",
              "      <td>0.115449</td>\n",
              "      <td>0.463345</td>\n",
              "      <td>0.532618</td>\n",
              "      <td>0.938389</td>\n",
              "      <td>0.465781</td>\n",
              "      <td>0.139893</td>\n",
              "      <td>0.238901</td>\n",
              "      <td>0.243669</td>\n",
              "      <td>0.991425</td>\n",
              "      <td>0.431171</td>\n",
              "      <td>0.491111</td>\n",
              "    </tr>\n",
              "    <tr>\n",
              "      <th>8</th>\n",
              "      <td>0.021739</td>\n",
              "      <td>0.132378</td>\n",
              "      <td>0.259349</td>\n",
              "      <td>0.488716</td>\n",
              "      <td>0.389581</td>\n",
              "      <td>0.411536</td>\n",
              "      <td>0.984672</td>\n",
              "      <td>0.526151</td>\n",
              "      <td>0.201324</td>\n",
              "      <td>0.236329</td>\n",
              "      <td>0.306712</td>\n",
              "      <td>0.965204</td>\n",
              "      <td>0.767177</td>\n",
              "      <td>0.255556</td>\n",
              "    </tr>\n",
              "    <tr>\n",
              "      <th>9</th>\n",
              "      <td>0.014588</td>\n",
              "      <td>0.144471</td>\n",
              "      <td>0.331099</td>\n",
              "      <td>0.759479</td>\n",
              "      <td>0.696532</td>\n",
              "      <td>0.334544</td>\n",
              "      <td>0.834204</td>\n",
              "      <td>0.611416</td>\n",
              "      <td>0.174935</td>\n",
              "      <td>0.237351</td>\n",
              "      <td>0.437982</td>\n",
              "      <td>0.967070</td>\n",
              "      <td>0.445798</td>\n",
              "      <td>0.308889</td>\n",
              "    </tr>\n",
              "  </tbody>\n",
              "</table>\n",
              "</div>\n",
              "    <div class=\"colab-df-buttons\">\n",
              "\n",
              "  <div class=\"colab-df-container\">\n",
              "    <button class=\"colab-df-convert\" onclick=\"convertToInteractive('df-0d2a489c-f8a2-42e9-aafb-7893ed5c5336')\"\n",
              "            title=\"Convert this dataframe to an interactive table.\"\n",
              "            style=\"display:none;\">\n",
              "\n",
              "  <svg xmlns=\"http://www.w3.org/2000/svg\" height=\"24px\" viewBox=\"0 -960 960 960\">\n",
              "    <path d=\"M120-120v-720h720v720H120Zm60-500h600v-160H180v160Zm220 220h160v-160H400v160Zm0 220h160v-160H400v160ZM180-400h160v-160H180v160Zm440 0h160v-160H620v160ZM180-180h160v-160H180v160Zm440 0h160v-160H620v160Z\"/>\n",
              "  </svg>\n",
              "    </button>\n",
              "\n",
              "  <style>\n",
              "    .colab-df-container {\n",
              "      display:flex;\n",
              "      gap: 12px;\n",
              "    }\n",
              "\n",
              "    .colab-df-convert {\n",
              "      background-color: #E8F0FE;\n",
              "      border: none;\n",
              "      border-radius: 50%;\n",
              "      cursor: pointer;\n",
              "      display: none;\n",
              "      fill: #1967D2;\n",
              "      height: 32px;\n",
              "      padding: 0 0 0 0;\n",
              "      width: 32px;\n",
              "    }\n",
              "\n",
              "    .colab-df-convert:hover {\n",
              "      background-color: #E2EBFA;\n",
              "      box-shadow: 0px 1px 2px rgba(60, 64, 67, 0.3), 0px 1px 3px 1px rgba(60, 64, 67, 0.15);\n",
              "      fill: #174EA6;\n",
              "    }\n",
              "\n",
              "    .colab-df-buttons div {\n",
              "      margin-bottom: 4px;\n",
              "    }\n",
              "\n",
              "    [theme=dark] .colab-df-convert {\n",
              "      background-color: #3B4455;\n",
              "      fill: #D2E3FC;\n",
              "    }\n",
              "\n",
              "    [theme=dark] .colab-df-convert:hover {\n",
              "      background-color: #434B5C;\n",
              "      box-shadow: 0px 1px 3px 1px rgba(0, 0, 0, 0.15);\n",
              "      filter: drop-shadow(0px 1px 2px rgba(0, 0, 0, 0.3));\n",
              "      fill: #FFFFFF;\n",
              "    }\n",
              "  </style>\n",
              "\n",
              "    <script>\n",
              "      const buttonEl =\n",
              "        document.querySelector('#df-0d2a489c-f8a2-42e9-aafb-7893ed5c5336 button.colab-df-convert');\n",
              "      buttonEl.style.display =\n",
              "        google.colab.kernel.accessAllowed ? 'block' : 'none';\n",
              "\n",
              "      async function convertToInteractive(key) {\n",
              "        const element = document.querySelector('#df-0d2a489c-f8a2-42e9-aafb-7893ed5c5336');\n",
              "        const dataTable =\n",
              "          await google.colab.kernel.invokeFunction('convertToInteractive',\n",
              "                                                    [key], {});\n",
              "        if (!dataTable) return;\n",
              "\n",
              "        const docLinkHtml = 'Like what you see? Visit the ' +\n",
              "          '<a target=\"_blank\" href=https://colab.research.google.com/notebooks/data_table.ipynb>data table notebook</a>'\n",
              "          + ' to learn more about interactive tables.';\n",
              "        element.innerHTML = '';\n",
              "        dataTable['output_type'] = 'display_data';\n",
              "        await google.colab.output.renderOutput(dataTable, element);\n",
              "        const docLink = document.createElement('div');\n",
              "        docLink.innerHTML = docLinkHtml;\n",
              "        element.appendChild(docLink);\n",
              "      }\n",
              "    </script>\n",
              "  </div>\n",
              "\n",
              "\n",
              "<div id=\"df-c90293fb-0b8f-493a-bc61-422f336ec88c\">\n",
              "  <button class=\"colab-df-quickchart\" onclick=\"quickchart('df-c90293fb-0b8f-493a-bc61-422f336ec88c')\"\n",
              "            title=\"Suggest charts\"\n",
              "            style=\"display:none;\">\n",
              "\n",
              "<svg xmlns=\"http://www.w3.org/2000/svg\" height=\"24px\"viewBox=\"0 0 24 24\"\n",
              "     width=\"24px\">\n",
              "    <g>\n",
              "        <path d=\"M19 3H5c-1.1 0-2 .9-2 2v14c0 1.1.9 2 2 2h14c1.1 0 2-.9 2-2V5c0-1.1-.9-2-2-2zM9 17H7v-7h2v7zm4 0h-2V7h2v10zm4 0h-2v-4h2v4z\"/>\n",
              "    </g>\n",
              "</svg>\n",
              "  </button>\n",
              "\n",
              "<style>\n",
              "  .colab-df-quickchart {\n",
              "      --bg-color: #E8F0FE;\n",
              "      --fill-color: #1967D2;\n",
              "      --hover-bg-color: #E2EBFA;\n",
              "      --hover-fill-color: #174EA6;\n",
              "      --disabled-fill-color: #AAA;\n",
              "      --disabled-bg-color: #DDD;\n",
              "  }\n",
              "\n",
              "  [theme=dark] .colab-df-quickchart {\n",
              "      --bg-color: #3B4455;\n",
              "      --fill-color: #D2E3FC;\n",
              "      --hover-bg-color: #434B5C;\n",
              "      --hover-fill-color: #FFFFFF;\n",
              "      --disabled-bg-color: #3B4455;\n",
              "      --disabled-fill-color: #666;\n",
              "  }\n",
              "\n",
              "  .colab-df-quickchart {\n",
              "    background-color: var(--bg-color);\n",
              "    border: none;\n",
              "    border-radius: 50%;\n",
              "    cursor: pointer;\n",
              "    display: none;\n",
              "    fill: var(--fill-color);\n",
              "    height: 32px;\n",
              "    padding: 0;\n",
              "    width: 32px;\n",
              "  }\n",
              "\n",
              "  .colab-df-quickchart:hover {\n",
              "    background-color: var(--hover-bg-color);\n",
              "    box-shadow: 0 1px 2px rgba(60, 64, 67, 0.3), 0 1px 3px 1px rgba(60, 64, 67, 0.15);\n",
              "    fill: var(--button-hover-fill-color);\n",
              "  }\n",
              "\n",
              "  .colab-df-quickchart-complete:disabled,\n",
              "  .colab-df-quickchart-complete:disabled:hover {\n",
              "    background-color: var(--disabled-bg-color);\n",
              "    fill: var(--disabled-fill-color);\n",
              "    box-shadow: none;\n",
              "  }\n",
              "\n",
              "  .colab-df-spinner {\n",
              "    border: 2px solid var(--fill-color);\n",
              "    border-color: transparent;\n",
              "    border-bottom-color: var(--fill-color);\n",
              "    animation:\n",
              "      spin 1s steps(1) infinite;\n",
              "  }\n",
              "\n",
              "  @keyframes spin {\n",
              "    0% {\n",
              "      border-color: transparent;\n",
              "      border-bottom-color: var(--fill-color);\n",
              "      border-left-color: var(--fill-color);\n",
              "    }\n",
              "    20% {\n",
              "      border-color: transparent;\n",
              "      border-left-color: var(--fill-color);\n",
              "      border-top-color: var(--fill-color);\n",
              "    }\n",
              "    30% {\n",
              "      border-color: transparent;\n",
              "      border-left-color: var(--fill-color);\n",
              "      border-top-color: var(--fill-color);\n",
              "      border-right-color: var(--fill-color);\n",
              "    }\n",
              "    40% {\n",
              "      border-color: transparent;\n",
              "      border-right-color: var(--fill-color);\n",
              "      border-top-color: var(--fill-color);\n",
              "    }\n",
              "    60% {\n",
              "      border-color: transparent;\n",
              "      border-right-color: var(--fill-color);\n",
              "    }\n",
              "    80% {\n",
              "      border-color: transparent;\n",
              "      border-right-color: var(--fill-color);\n",
              "      border-bottom-color: var(--fill-color);\n",
              "    }\n",
              "    90% {\n",
              "      border-color: transparent;\n",
              "      border-bottom-color: var(--fill-color);\n",
              "    }\n",
              "  }\n",
              "</style>\n",
              "\n",
              "  <script>\n",
              "    async function quickchart(key) {\n",
              "      const quickchartButtonEl =\n",
              "        document.querySelector('#' + key + ' button');\n",
              "      quickchartButtonEl.disabled = true;  // To prevent multiple clicks.\n",
              "      quickchartButtonEl.classList.add('colab-df-spinner');\n",
              "      try {\n",
              "        const charts = await google.colab.kernel.invokeFunction(\n",
              "            'suggestCharts', [key], {});\n",
              "      } catch (error) {\n",
              "        console.error('Error during call to suggestCharts:', error);\n",
              "      }\n",
              "      quickchartButtonEl.classList.remove('colab-df-spinner');\n",
              "      quickchartButtonEl.classList.add('colab-df-quickchart-complete');\n",
              "    }\n",
              "    (() => {\n",
              "      let quickchartButtonEl =\n",
              "        document.querySelector('#df-c90293fb-0b8f-493a-bc61-422f336ec88c button');\n",
              "      quickchartButtonEl.style.display =\n",
              "        google.colab.kernel.accessAllowed ? 'block' : 'none';\n",
              "    })();\n",
              "  </script>\n",
              "</div>\n",
              "\n",
              "    </div>\n",
              "  </div>\n"
            ],
            "application/vnd.google.colaboratory.intrinsic+json": {
              "type": "dataframe",
              "variable_name": "df",
              "summary": "{\n  \"name\": \"df\",\n  \"rows\": 506,\n  \"fields\": [\n    {\n      \"column\": \"x1\",\n      \"properties\": {\n        \"dtype\": \"number\",\n        \"std\": 0.09412102189357344,\n        \"min\": 0.0,\n        \"max\": 1.0,\n        \"num_unique_values\": 506,\n        \"samples\": [\n          0.0499190269366402,\n          0.0372793486415663,\n          0.0403476125162454\n        ],\n        \"semantic_type\": \"\",\n        \"description\": \"\"\n      }\n    },\n    {\n      \"column\": \"x2\",\n      \"properties\": {\n        \"dtype\": \"number\",\n        \"std\": 0.22643957887914032,\n        \"min\": 0.0,\n        \"max\": 1.0,\n        \"num_unique_values\": 506,\n        \"samples\": [\n          0.0270797194040528,\n          0.4175304654416022,\n          0.0224929701490326\n        ],\n        \"semantic_type\": \"\",\n        \"description\": \"\"\n      }\n    },\n    {\n      \"column\": \"x3\",\n      \"properties\": {\n        \"dtype\": \"number\",\n        \"std\": 0.23203681609671972,\n        \"min\": 0.0,\n        \"max\": 1.0,\n        \"num_unique_values\": 506,\n        \"samples\": [\n          0.1792486637747934,\n          0.2743955576655295,\n          0.9683967172985736\n        ],\n        \"semantic_type\": \"\",\n        \"description\": \"\"\n      }\n    },\n    {\n      \"column\": \"x4\",\n      \"properties\": {\n        \"dtype\": \"number\",\n        \"std\": 0.1822823739959293,\n        \"min\": 0.0,\n        \"max\": 1.0,\n        \"num_unique_values\": 506,\n        \"samples\": [\n          0.4621324318833278,\n          0.4547574666783817,\n          0.4005254037842979\n        ],\n        \"semantic_type\": \"\",\n        \"description\": \"\"\n      }\n    },\n    {\n      \"column\": \"x5\",\n      \"properties\": {\n        \"dtype\": \"number\",\n        \"std\": 0.16728059681043897,\n        \"min\": 0.0,\n        \"max\": 1.0,\n        \"num_unique_values\": 506,\n        \"samples\": [\n          0.5849521360722187,\n          0.5561616663456006,\n          0.7352773683337714\n        ],\n        \"semantic_type\": \"\",\n        \"description\": \"\"\n      }\n    },\n    {\n      \"column\": \"x6\",\n      \"properties\": {\n        \"dtype\": \"number\",\n        \"std\": 0.15092712790755394,\n        \"min\": 0.0,\n        \"max\": 1.0,\n        \"num_unique_values\": 506,\n        \"samples\": [\n          0.4339961234835209,\n          0.4895463226365414,\n          0.572557245767741\n        ],\n        \"semantic_type\": \"\",\n        \"description\": \"\"\n      }\n    },\n    {\n      \"column\": \"x7\",\n      \"properties\": {\n        \"dtype\": \"number\",\n        \"std\": 0.2823707934991049,\n        \"min\": 0.0,\n        \"max\": 1.0,\n        \"num_unique_values\": 506,\n        \"samples\": [\n          0.8315909849163077,\n          0.3026895216921868,\n          0.9754998325044808\n        ],\n        \"semantic_type\": \"\",\n        \"description\": \"\"\n      }\n    },\n    {\n      \"column\": \"x8\",\n      \"properties\": {\n        \"dtype\": \"number\",\n        \"std\": 0.18128568925683278,\n        \"min\": 0.0,\n        \"max\": 1.0,\n        \"num_unique_values\": 506,\n        \"samples\": [\n          0.2242822251534877,\n          0.23861541555023,\n          0.1059364335340743\n        ],\n        \"semantic_type\": \"\",\n        \"description\": \"\"\n      }\n    },\n    {\n      \"column\": \"x9\",\n      \"properties\": {\n        \"dtype\": \"number\",\n        \"std\": 0.31067542929982594,\n        \"min\": 0.0,\n        \"max\": 1.0,\n        \"num_unique_values\": 506,\n        \"samples\": [\n          0.208196134136252,\n          0.1474939565309038,\n          0.1949015147367152\n        ],\n        \"semantic_type\": \"\",\n        \"description\": \"\"\n      }\n    },\n    {\n      \"column\": \"x10\",\n      \"properties\": {\n        \"dtype\": \"number\",\n        \"std\": 0.31977789284106656,\n        \"min\": 0.0,\n        \"max\": 1.0,\n        \"num_unique_values\": 506,\n        \"samples\": [\n          0.2108191445914082,\n          0.1336018960152109,\n          0.9979329447750253\n        ],\n        \"semantic_type\": \"\",\n        \"description\": \"\"\n      }\n    },\n    {\n      \"column\": \"x11\",\n      \"properties\": {\n        \"dtype\": \"number\",\n        \"std\": 0.19215735143397242,\n        \"min\": 0.0,\n        \"max\": 1.0,\n        \"num_unique_values\": 506,\n        \"samples\": [\n          0.3874211892036543,\n          0.3986546057168885,\n          0.7875594558392439\n        ],\n        \"semantic_type\": \"\",\n        \"description\": \"\"\n      }\n    },\n    {\n      \"column\": \"x12\",\n      \"properties\": {\n        \"dtype\": \"number\",\n        \"std\": 0.22871322563817403,\n        \"min\": 0.0,\n        \"max\": 1.0,\n        \"num_unique_values\": 506,\n        \"samples\": [\n          0.9929641731116344,\n          0.9961454906381132,\n          0.9761807038251704\n        ],\n        \"semantic_type\": \"\",\n        \"description\": \"\"\n      }\n    },\n    {\n      \"column\": \"x13\",\n      \"properties\": {\n        \"dtype\": \"number\",\n        \"std\": 0.20367976634198887,\n        \"min\": 0.0,\n        \"max\": 1.0,\n        \"num_unique_values\": 506,\n        \"samples\": [\n          0.2104941430684204,\n          0.0777346082167225,\n          0.4893547657574851\n        ],\n        \"semantic_type\": \"\",\n        \"description\": \"\"\n      }\n    },\n    {\n      \"column\": \"Price\",\n      \"properties\": {\n        \"dtype\": \"number\",\n        \"std\": 0.20438009083066266,\n        \"min\": 0.0,\n        \"max\": 1.0,\n        \"num_unique_values\": 229,\n        \"samples\": [\n          0.2022222222222222,\n          0.3888888888888889,\n          0.3088888888888889\n        ],\n        \"semantic_type\": \"\",\n        \"description\": \"\"\n      }\n    }\n  ]\n}"
            }
          },
          "metadata": {},
          "execution_count": 66
        }
      ]
    },
    {
      "cell_type": "code",
      "source": [
        "X = df.drop(\"Price\", axis = 1).to_numpy() # 데이터프레임에서 Price, 타겟값을 제외하고 넘파이 배열로 만들기\n",
        "Y = df[\"Price\"].to_numpy().reshape((-1,1)) # 데이터프레임 형태의 타겟값을 넘파이 배열로 만들기"
      ],
      "metadata": {
        "id": "ZEK47rYbVDIT"
      },
      "execution_count": 67,
      "outputs": []
    },
    {
      "cell_type": "markdown",
      "source": [],
      "metadata": {
        "id": "YibWYUGcViaY"
      }
    },
    {
      "cell_type": "code",
      "source": [
        "# 텐서 데이터로 변환하는 클래스 3강 참고.\n",
        "class TensorData(Dataset):\n",
        "\n",
        "  def __init__(self, x_data, y_data):\n",
        "    self.x_data = torch.FloatTensor(x_data)\n",
        "    self.y_data = torch.FloatTensor(y_data)\n",
        "    self.len = self.y_data.shape[0]\n",
        "\n",
        "  def __getitem__(self, index):\n",
        "    return self.x_data[index], self.y_data[index]\n",
        "\n",
        "  def __len__(self):\n",
        "    return  self.len"
      ],
      "metadata": {
        "id": "4CVAD7-zViCi"
      },
      "execution_count": 68,
      "outputs": []
    },
    {
      "cell_type": "code",
      "source": [
        "# 전체 데이터를 학습 데이터와 평가 데이터로 나눈다.\n",
        "# test size를 0.5로 설정한다.\n",
        "X_train, X_test, Y_train, Y_test = train_test_split(X, Y, test_size=0.5)\n",
        "\n",
        "# 학습 데이터, 시험 데이터 배치 형태로 구축하기\n",
        "trainsets = TensorData(X_train, Y_train)\n",
        "trainloader = DataLoader(trainsets, batch_size=32, shuffle=True)\n",
        "\n",
        "testsets = TensorData(X_test, Y_test)\n",
        "testloader = DataLoader(testsets, batch_size=32, shuffle=False)"
      ],
      "metadata": {
        "id": "Vv5KJtl9XyuZ"
      },
      "execution_count": 69,
      "outputs": []
    },
    {
      "cell_type": "code",
      "source": [
        "#모델 구축\n",
        "class Regressor(nn.Module):\n",
        "  def __init__(self):\n",
        "    super().__init__() # 모델 연산 정의\n",
        "    self.fc1 = nn.Linear(13,50,bias=True)\n",
        "    self.fc2 = nn.Linear(50,30, bias=True)\n",
        "    self.fc3 = nn.Linear(30,1, bias=True)\n",
        "    self.dropout = nn.Dropout(0.2) # 연산이 될 때 마다 20% 비율로 랜덤하게 노드를 없앤다.\n",
        "\n",
        "  def forward(self, x):\n",
        "    x = F.relu(self.fc1(x))\n",
        "    x = self.dropout(F.relu(self.fc2(x)))\n",
        "    x = F.relu(self.fc3(x))\n",
        "\n",
        "    return x\n",
        "\n",
        "  # dropout은 과적합을 방지하기 위해 노드의 일부를 배제하고 계산하는 방식이기 때문에, 절대로 출력층에 사용해서는 안된다\n"
      ],
      "metadata": {
        "id": "nD4U8C0KXytu"
      },
      "execution_count": 70,
      "outputs": []
    },
    {
      "cell_type": "code",
      "source": [
        "#모델, 손실함수, 최적화 방법 선언\n",
        "model = Regressor()\n",
        "compiled_model = torch.compile(model)\n",
        "criterion = nn.MSELoss()\n",
        "#lr은 학습률,\n",
        "# weight_decay는 L2 정규화에서의 penalty 정도를 의미한다. 1e-2:0.01\n",
        "optimizer = optim.Adam(compiled_model.parameters(), lr=1e-2, weight_decay=1e-7)\n",
        "\n"
      ],
      "metadata": {
        "id": "w2nhd7kXYr0x"
      },
      "execution_count": 71,
      "outputs": []
    },
    {
      "cell_type": "code",
      "source": [
        "pret = 1 # 학습된 모델이 있으면 1\n",
        "\n",
        "if pret == 1:\n",
        "  checkpoint = torch.load(\"./models/reg4-1.pt\")\n",
        "  compiled_model.load_state_dict(checkpoint['model'])\n",
        "  optimizer.load_state_dict(checkpoint['optimizer'])\n",
        "  loss_ = checkpoint['loss']\n",
        "  ep = checkpoint['epoch']\n",
        "  ls = loss_[-1]\n",
        "  print(f\"epoch={ep}, loss={ls}\")\n",
        "else:\n",
        "  ep = 0\n",
        "  ls = 1\n",
        "  loss_ = []"
      ],
      "metadata": {
        "colab": {
          "base_uri": "https://localhost:8080/"
        },
        "id": "zTOSJLha8Jx9",
        "outputId": "6d0abe2b-7025-4b95-8313-2a9003ef1291"
      },
      "execution_count": 72,
      "outputs": [
        {
          "output_type": "stream",
          "name": "stdout",
          "text": [
            "epoch=0, loss=0.00335790884855669\n"
          ]
        },
        {
          "output_type": "stream",
          "name": "stderr",
          "text": [
            "<ipython-input-72-b95d383198ac>:4: FutureWarning: You are using `torch.load` with `weights_only=False` (the current default value), which uses the default pickle module implicitly. It is possible to construct malicious pickle data which will execute arbitrary code during unpickling (See https://github.com/pytorch/pytorch/blob/main/SECURITY.md#untrusted-models for more details). In a future release, the default value for `weights_only` will be flipped to `True`. This limits the functions that could be executed during unpickling. Arbitrary objects will no longer be allowed to be loaded via this mode unless they are explicitly allowlisted by the user via `torch.serialization.add_safe_globals`. We recommend you start setting `weights_only=True` for any use case where you don't have full control of the loaded file. Please open an issue on GitHub for any issues related to this experimental feature.\n",
            "  checkpoint = torch.load(\"./models/reg4-1.pt\")\n"
          ]
        }
      ]
    },
    {
      "cell_type": "code",
      "source": [
        "# 학습 진행\n",
        "ls = 1\n",
        "loss_ = []\n",
        "n = len(trainloader)\n",
        "\n",
        "for epoch in range(ep, ep+200):\n",
        "  running_loss = 0.0\n",
        "\n",
        "  for data in trainloader: # 무작위로 섞인 32개의 데이터가 있는 배치가 하나 씩 들어온다.\n",
        "\n",
        "    inputs, values = data # X, Y\n",
        "    optimizer.zero_grad() # 최적화 초기화\n",
        "\n",
        "    outputs = compiled_model(inputs)\n",
        "    loss = criterion(outputs, values )#  손실 함수 계산\n",
        "    loss.backward() # 역전파\n",
        "    optimizer.step() #  역전파를 진행하고 가중치를 업데이트\n",
        "\n",
        "    running_loss += loss.item()# epoch마다 평균 loss를 계산하기 위해 배치 loss를 더한다.\n",
        "\n",
        "  l = running_loss / n\n",
        "  loss_.append(l)\n",
        "\n",
        "  if l<ls:\n",
        "    ls = l\n",
        "    torch.save({\n",
        "        \"epoch\" : ep,\n",
        "        \"loss\" : loss_,\n",
        "        'model' : compiled_model.state_dict(),\n",
        "        \"optimizer\" : optimizer.state_dict()\n",
        "    }, \"./models/reg4-1.pt\")\n",
        "print(\"finished Training\")"
      ],
      "metadata": {
        "colab": {
          "base_uri": "https://localhost:8080/"
        },
        "id": "2R8aoGje4Ib1",
        "outputId": "8c9ec928-1212-438e-f44b-78041ed331bb"
      },
      "execution_count": 73,
      "outputs": [
        {
          "output_type": "stream",
          "name": "stdout",
          "text": [
            "finished Training\n"
          ]
        }
      ]
    },
    {
      "cell_type": "code",
      "source": [
        "plt.figure(figsize=(5,2))\n",
        "plt.plot(loss_)\n",
        "plt.title(\"Training Loss\")\n",
        "plt.xlabel(\"epoch\")\n",
        "plt.show()"
      ],
      "metadata": {
        "id": "7AX17XqVY7XM",
        "colab": {
          "base_uri": "https://localhost:8080/",
          "height": 256
        },
        "outputId": "613b8e44-11fc-4104-c0c6-5d3873b35ed9"
      },
      "execution_count": 74,
      "outputs": [
        {
          "output_type": "display_data",
          "data": {
            "text/plain": [
              "<Figure size 500x200 with 1 Axes>"
            ],
            "image/png": "[encoded data removed]"
          },
          "metadata": {}
        }
      ]
    },
    {
      "cell_type": "code",
      "source": [
        "def evaluation(dataLoader):\n",
        "\n",
        "  predictions = torch.tensor([], dtype=torch.float)\n",
        "  actual = torch.tensor([], dtype=torch.float)\n",
        "\n",
        "  with torch.no_grad():\n",
        "    compiled_model.eval()\n",
        "    for data in dataLoader:\n",
        "      inputs, values = data\n",
        "      outputs = compiled_model(inputs)\n",
        "\n",
        "      predictions = torch.cat((predictions, outputs), 0) # cat을 통해 예측값을 누적\n",
        "      actual = torch.cat((actual, values ), 0)\n",
        "\n",
        "  rmse = np.sqrt(mean_squared_error(predictions,actual))\n",
        "\n",
        "  return rmse"
      ],
      "metadata": {
        "id": "JfN5xI2T9j8_"
      },
      "execution_count": 75,
      "outputs": []
    },
    {
      "cell_type": "code",
      "source": [
        "checkpoint = torch.load(\"./models/reg4-1.pt\")\n",
        "compiled_model.load_state_dict(checkpoint['model'])\n"
      ],
      "metadata": {
        "colab": {
          "base_uri": "https://localhost:8080/"
        },
        "id": "J3XgiRU3-gLX",
        "outputId": "a0626599-3bef-49cc-d062-0e779da10bda"
      },
      "execution_count": 76,
      "outputs": [
        {
          "output_type": "stream",
          "name": "stderr",
          "text": [
            "<ipython-input-76-af02eb9ecc68>:1: FutureWarning: You are using `torch.load` with `weights_only=False` (the current default value), which uses the default pickle module implicitly. It is possible to construct malicious pickle data which will execute arbitrary code during unpickling (See https://github.com/pytorch/pytorch/blob/main/SECURITY.md#untrusted-models for more details). In a future release, the default value for `weights_only` will be flipped to `True`. This limits the functions that could be executed during unpickling. Arbitrary objects will no longer be allowed to be loaded via this mode unless they are explicitly allowlisted by the user via `torch.serialization.add_safe_globals`. We recommend you start setting `weights_only=True` for any use case where you don't have full control of the loaded file. Please open an issue on GitHub for any issues related to this experimental feature.\n",
            "  checkpoint = torch.load(\"./models/reg4-1.pt\")\n"
          ]
        },
        {
          "output_type": "execute_result",
          "data": {
            "text/plain": [
              "<All keys matched successfully>"
            ]
          },
          "metadata": {},
          "execution_count": 76
        }
      ]
    },
    {
      "cell_type": "code",
      "source": [
        "train_rmse = evaluation(trainloader)\n",
        "test_rmse = evaluation(testloader)\n",
        "\n",
        "print(train_rmse)\n",
        "print(test_rmse)"
      ],
      "metadata": {
        "colab": {
          "base_uri": "https://localhost:8080/"
        },
        "id": "w1vdJVId-sjt",
        "outputId": "7a795714-f269-4552-bfdb-0d1c5a2f7307"
      },
      "execution_count": 77,
      "outputs": [
        {
          "output_type": "stream",
          "name": "stdout",
          "text": [
            "0.04366894110346712\n",
            "0.10722337414921013\n"
          ]
        }
      ]
    },
    {
      "cell_type": "markdown",
      "source": [],
      "metadata": {
        "id": "B20_q8hJ-O9L"
      }
    }
  ]
}